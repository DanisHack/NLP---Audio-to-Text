{
 "cells": [
  {
   "cell_type": "code",
   "execution_count": 254,
   "metadata": {},
   "outputs": [
    {
     "name": "stdout",
     "output_type": "stream",
     "text": [
      "[nltk_data] Downloading package vader_lexicon to\n",
      "[nltk_data]     C:\\Users\\zeugn\\AppData\\Roaming\\nltk_data...\n",
      "[nltk_data]   Package vader_lexicon is already up-to-date!\n"
     ]
    }
   ],
   "source": [
    "import speech_recognition as sr\n",
    "import youtube_dl\n",
    "import xml.etree.ElementTree as ET\n",
    "from nltk.tokenize import sent_tokenize, word_tokenize\n",
    "import soundfile as sf\n",
    "from nltk import FreqDist\n",
    "import nltk\n",
    "from nltk.collocations import*\n",
    "from wordcloud import WordCloud, STOPWORDS, ImageColorGenerator\n",
    "import matplotlib.pyplot as plt\n",
    "from nltk.sentiment.vader import SentimentIntensityAnalyzer\n",
    "nltk.download('vader_lexicon')\n",
    "import requests\n",
    "import pandas as pd\n",
    "from aylienapiclient import textapi\n",
    "import numpy as np\n",
    "import re\n",
    "from nltk.stem.wordnet import WordNetLemmatizer\n",
    "from nltk.cluster.util import cosine_distance\n",
    "from operator import itemgetter\n",
    "import urllib"
   ]
  },
  {
   "cell_type": "markdown",
   "metadata": {},
   "source": [
    "#### Derive text from youtube subtitle url \n",
    "\n",
    "Found like this: browser --> settings --> more tools --> dev tools --> type timed --> press cc --> network --> header --> copy url"
   ]
  },
  {
   "cell_type": "code",
   "execution_count": 2,
   "metadata": {},
   "outputs": [],
   "source": [
    "def clean_text(text):\n",
    "    return text.strip().replace(\"\\n\", \" \")\n",
    "\n",
    "def get_text(url):\n",
    "    handle = urllib.request.urlopen(url)\n",
    "    content = handle.read()\n",
    "    root = ET.fromstring(content)\n",
    "    #root = tree.getroot()\n",
    "    running_words = []\n",
    "    body = root.find('body')\n",
    "    for p in body.findall('p'): #what does the p stand for\n",
    "        if p.text is None or p.text == \"\\n\":\n",
    "                words = [clean_text(s.text) for s in p.findall(\"s\")]\n",
    "        else:\n",
    "            words = [clean_text(p.text)]\n",
    "        running_words.extend(words)\n",
    "    final_text = \" \".join(running_words)\n",
    "    return final_text"
   ]
  },
  {
   "cell_type": "markdown",
   "metadata": {},
   "source": [
    "In case the download with the following youtube_dl does not work we can still get the text from the youtube subtitle"
   ]
  },
  {
   "cell_type": "markdown",
   "metadata": {},
   "source": [
    "#### Download video/audio file "
   ]
  },
  {
   "cell_type": "code",
   "execution_count": 30,
   "metadata": {},
   "outputs": [],
   "source": [
    "# create a downloader\n",
    "\n",
    "class logger(object):\n",
    "    def debug(self, msg):\n",
    "        pass\n",
    "    def warning(self, msg):\n",
    "        pass\n",
    "    def error(self, msg):\n",
    "        print(msg)\n",
    "        \n",
    "def hook(d):\n",
    "    if d['status'] == 'finished':\n",
    "        result = d['filename']\n",
    "        print('download finished')\n",
    "        print(result)\n",
    "\n",
    "def download(url):\n",
    "    options = { \n",
    "            'format': 'bestaudio/best',\n",
    "            'postprocessors': [{\n",
    "            'key':'FFmpegExtractAudio',\n",
    "            'preferredcodec': 'wav',\n",
    "            'preferredquality': '192',\n",
    "            }],\n",
    "            'logger': logger(),\n",
    "             'progress_hooks': [hook],\n",
    "            }\n",
    "              \n",
    "    with youtube_dl.YoutubeDL(options) as ydl:\n",
    "        ydl.download([url])"
   ]
  },
  {
   "cell_type": "code",
   "execution_count": 38,
   "metadata": {},
   "outputs": [
    {
     "name": "stdout",
     "output_type": "stream",
     "text": [
      "Please enter a url from which you want to download a videohttps://www.youtube.com/watch?v=PHe0bXAIuk0\n"
     ]
    }
   ],
   "source": [
    "#as a sample case I have used \"the economic machine\" by Ray dalio --> https://www.youtube.com/watch?v=PHe0bXAIuk0\n",
    "url = str(input('Please enter a url from which you want to download a video '))"
   ]
  },
  {
   "cell_type": "code",
   "execution_count": 42,
   "metadata": {},
   "outputs": [
    {
     "name": "stdout",
     "output_type": "stream",
     "text": [
      "download finished\n",
      "How The Economic Machine Works by Ray Dalio-PHe0bXAIuk0.webm\n"
     ]
    }
   ],
   "source": [
    "download(url)"
   ]
  },
  {
   "cell_type": "markdown",
   "metadata": {},
   "source": [
    "#### Read in the downloaded audio file and calculate length of audio file"
   ]
  },
  {
   "cell_type": "code",
   "execution_count": 43,
   "metadata": {},
   "outputs": [
    {
     "data": {
      "text/plain": [
       "1860"
      ]
     },
     "execution_count": 43,
     "metadata": {},
     "output_type": "execute_result"
    }
   ],
   "source": [
    "file = 'How The Economic Machine Works by Ray Dalio-PHe0bXAIuk0.wav'\n",
    "f = sf.SoundFile(file) #read in audio file\n",
    "video_length = int(len(f) / f.samplerate) + (len(f)%f.samplerate > 0)    #round up to make sure we get the entire file\n",
    "video_length #video length in seconds"
   ]
  },
  {
   "cell_type": "code",
   "execution_count": 259,
   "metadata": {},
   "outputs": [
    {
     "data": {
      "text/plain": [
       "93"
      ]
     },
     "execution_count": 259,
     "metadata": {},
     "output_type": "execute_result"
    }
   ],
   "source": [
    "loop_number = int(video_length/10) + (video_length% 10 >0) #calculate the number of required loops\n",
    "if loop_number == 0:\n",
    "    loop_range= 2\n",
    "else:\n",
    "    loop_range = int((loop_number/2))"
   ]
  },
  {
   "cell_type": "code",
   "execution_count": 264,
   "metadata": {},
   "outputs": [],
   "source": [
    "#create a function that loops through the audio file and transcribes\n",
    "def transcribe(loops, starting_increment):\n",
    "    audio_text1 = [] \n",
    "    increment = starting_increment \n",
    "    for i in range(loops):\n",
    "        r = sr.Recognizer()\n",
    "        with sr.AudioFile(file) as source:\n",
    "            audio = r.record(source, offset = (increment) , duration= 10)\n",
    "        string = r.recognize_google(audio)\n",
    "        audio_text1.append(string)\n",
    "        increment += 10\n",
    "    return audio_text1"
   ]
  },
  {
   "cell_type": "code",
   "execution_count": null,
   "metadata": {},
   "outputs": [],
   "source": [
    "audio_text1 = transcribe(loop_range, start)\n",
    "audio_text2 = transcribe(loop_range, loop_range)"
   ]
  },
  {
   "cell_type": "code",
   "execution_count": 65,
   "metadata": {},
   "outputs": [],
   "source": [
    "half1_audio = \" \".join(audio_text1)\n",
    "half2_audio = \" \".join(audio_text2)\n",
    "full_text = half1_audio + \" \" + half2_audio"
   ]
  },
  {
   "cell_type": "markdown",
   "metadata": {},
   "source": [
    "#### Word Analysis: Frequency, Bigram, and Wordcloud"
   ]
  },
  {
   "cell_type": "markdown",
   "metadata": {},
   "source": [
    "obtain the most frequently used words"
   ]
  },
  {
   "cell_type": "code",
   "execution_count": 84,
   "metadata": {},
   "outputs": [],
   "source": [
    "nltkstopwords = nltk.corpus.stopwords.words('english')\n",
    "otherstopwords = ['could','would','might','must','need', 'sha','wo','y', \"'s\", \"'d\", \"'ll\", \"'t\", \"'re\" ]\n",
    "stopwords = nltkstopwords + otherstopwords\n",
    "token = nltk.word_tokenize(full_text) #all words within text\n",
    "words = [w.lower() for w in token] # converted to lowercase\n",
    "vocab = sorted(set(words)) #unique words/vocabulary used\n",
    "stoppedtokens = [w for w in words if not w in stopwords] #filter out stopwords without any meaning\n",
    "fdist = FreqDist(stoppedtokens)\n",
    "fdistkeys = list(fdist.keys())\n",
    "topkeys = fdist.most_common(50) #the 50 most frequent words used in given text"
   ]
  },
  {
   "cell_type": "markdown",
   "metadata": {},
   "source": [
    "obtain the most frequent bigrams used"
   ]
  },
  {
   "cell_type": "code",
   "execution_count": 90,
   "metadata": {},
   "outputs": [
    {
     "data": {
      "text/plain": [
       "[(('interest', 'rates'), 0.005475989890480202),\n",
       " (('person', 'income'), 0.005475989890480202),\n",
       " (('another', 'person'), 0.005054759898904802),\n",
       " (('debt', 'cycle'), 0.005054759898904802),\n",
       " (('spending', 'another'), 0.005054759898904802),\n",
       " (('increase', 'spending'), 0.004633529907329402),\n",
       " (('ca', \"n't\"), 0.003369839932603201),\n",
       " (('central', 'bank'), 0.003369839932603201),\n",
       " (('pay', 'back'), 0.003369839932603201),\n",
       " (('prices', 'rise'), 0.003369839932603201)]"
      ]
     },
     "execution_count": 90,
     "metadata": {},
     "output_type": "execute_result"
    }
   ],
   "source": [
    "bigrams = list(nltk.bigrams(stoppedtokens))\n",
    "bigram_measures = nltk.collocations.BigramAssocMeasures()\n",
    "finder = BigramCollocationFinder.from_words(stoppedtokens)\n",
    "scored = finder.score_ngrams(bigram_measures.raw_freq)\n",
    "scored[:10] #the top 10 most often occuring bigrams"
   ]
  },
  {
   "cell_type": "markdown",
   "metadata": {},
   "source": [
    "Wordcloud implementation of most frequent words"
   ]
  },
  {
   "cell_type": "code",
   "execution_count": 99,
   "metadata": {},
   "outputs": [
    {
     "data": {
      "image/png": "[encoded data removed]",
      "text/plain": [
       "<Figure size 432x288 with 1 Axes>"
      ]
     },
     "metadata": {
      "needs_background": "light"
     },
     "output_type": "display_data"
    }
   ],
   "source": [
    "wordcloud = WordCloud().generate(full_text)\n",
    "plt.imshow(wordcloud, interpolation='bilinear')\n",
    "plt.axis(\"off\")\n",
    "plt.show()"
   ]
  },
  {
   "cell_type": "markdown",
   "metadata": {},
   "source": [
    " Word Sentiment - get positive and negative words "
   ]
  },
  {
   "cell_type": "code",
   "execution_count": 106,
   "metadata": {},
   "outputs": [
    {
     "name": "stdout",
     "output_type": "stream",
     "text": [
      "Positive : ['best', 'comfortable', 'creditworthy', 'great']\n",
      "Negative : ['bad', 'crisis', 'death', 'hated', 'war']\n"
     ]
    }
   ],
   "source": [
    "sid = SentimentIntensityAnalyzer()\n",
    "pos_word_list=[]\n",
    "neu_word_list=[]\n",
    "neg_word_list=[]\n",
    "for word in vocab:\n",
    "    if (sid.polarity_scores(word)['compound']) >= 0.5:\n",
    "        pos_word_list.append(word)\n",
    "    elif (sid.polarity_scores(word)['compound']) <= -0.5:\n",
    "        neg_word_list.append(word)\n",
    "    else:\n",
    "        neu_word_list.append(word)  \n",
    "print('Positive :',pos_word_list)          \n",
    "print('Negative :',neg_word_list)"
   ]
  },
  {
   "cell_type": "markdown",
   "metadata": {},
   "source": [
    "#### Add punctuation for sentence\n"
   ]
  },
  {
   "cell_type": "code",
   "execution_count": 109,
   "metadata": {},
   "outputs": [],
   "source": [
    "url_punctuator = 'http://bark.phon.ioc.ee/punctuator'\n",
    "r = requests.post(url_punctuator, data = {'text': full_text})\n",
    "text_punctuated = r.text"
   ]
  },
  {
   "cell_type": "markdown",
   "metadata": {},
   "source": [
    "#### Sentiment Analysis - Sentences"
   ]
  },
  {
   "cell_type": "code",
   "execution_count": 134,
   "metadata": {},
   "outputs": [],
   "source": [
    "sentences = sent_tokenize(text_punctuated)\n",
    "df = pd.DataFrame(sentences)\n",
    "analyser = SentimentIntensityAnalyzer()\n",
    "results = []\n",
    "for sent in sentences:\n",
    "    score = analyser.polarity_scores(sent)\n",
    "    score['description'] = sent\n",
    "    results.append(score)\n",
    "df_scores = pd.DataFrame(results)"
   ]
  },
  {
   "cell_type": "code",
   "execution_count": 272,
   "metadata": {},
   "outputs": [
    {
     "name": "stdout",
     "output_type": "stream",
     "text": [
      "Number of positive words:108\n",
      "Number of negative words:37\n",
      "Number of neutral words:78\n"
     ]
    }
   ],
   "source": [
    "df_scores['label'] = 0\n",
    "df_scores.loc[df_scores['compound'] > 0.2, 'label'] = 1\n",
    "df_scores.loc[df_scores['compound'] < -0.2, 'label'] = -1\n",
    "df_sorted1 = df_scores.sort_values(by='compound', ascending = False) #sorted by positive sentences\n",
    "df_sorted2 = df_scores.sort_values(by='compound') #sorted by negative sentences\n",
    "print('Number of positive words:' + str(len(df_scores[df_scores['label']==1]))) #number of positive sentences\n",
    "print('Number of negative words:' + str(len(df_scores[df_scores['label']==-1]))) #number of negative sentences\n",
    "print('Number of neutral words:' + str(len(df_scores[df_scores['label']==0]))) #number of neutral sentences"
   ]
  },
  {
   "cell_type": "markdown",
   "metadata": {},
   "source": [
    "#### Use Alyien API for Text Summarization purposes"
   ]
  },
  {
   "cell_type": "code",
   "execution_count": 165,
   "metadata": {},
   "outputs": [
    {
     "name": "stdout",
     "output_type": "stream",
     "text": [
      "How many sentences should the summary be comprised of?15\n"
     ]
    },
    {
     "data": {
      "text/plain": [
       "['These transactions are, above all else, driven by human nature, and they create three main forces that drive the economy number one productivity growth number to the the term debt cycle and number three.',\n",
       " 'Each transaction consists of a buyer, exchanging money or credit with a seller for goods services for financial assets, credit spins, just like money, so adding together the money spent and the amount of credit spent.',\n",
       " 'The way I just described exchanging money and credit for goods, services and financial assets, the biggest Byron seller, is the government which consists of two important parts: a central government that collects taxes and spends money and a central bank which different from other buyers and sellers, because It controls the amount of money and Credit in the economy.']"
      ]
     },
     "execution_count": 165,
     "metadata": {},
     "output_type": "execute_result"
    }
   ],
   "source": [
    "sentence_number = str(input(\"How many sentences should the summary be comprised of?\"))\n",
    "client = textapi.Client(\"7d35019d\", \"da268fc79ce12e5ebe9c6e070ded342b\")\n",
    "summary = client.Summarize({'text': text_punctuated , 'title': 'Summary', 'sentences_percentage':sentence_number }) \n",
    "summary['sentences'][:3]\n"
   ]
  },
  {
   "cell_type": "markdown",
   "metadata": {},
   "source": [
    "#### Write Summarization to txt file"
   ]
  },
  {
   "cell_type": "code",
   "execution_count": null,
   "metadata": {},
   "outputs": [],
   "source": [
    "with open('text_summary.txt', 'w') as x:\n",
    "    for i in summary['sentences']:\n",
    "        x.write(i)\n",
    "        print(i)"
   ]
  },
  {
   "cell_type": "markdown",
   "metadata": {},
   "source": [
    "### Other Summarization Approaches"
   ]
  },
  {
   "cell_type": "markdown",
   "metadata": {},
   "source": [
    "#### Using page rank algorithm to determine sentence importance"
   ]
  },
  {
   "cell_type": "code",
   "execution_count": 218,
   "metadata": {},
   "outputs": [],
   "source": [
    "def findSentenceSimilarity(s1, s2):\n",
    "    allWords = list(set(s1 + s2))\n",
    "    vectorForS1 = [0] * len(allWords)\n",
    "    vectorForS2 = [0] * len(allWords)\n",
    "    for word in s1:\n",
    "        vectorForS1[allWords.index(word)] += 1\n",
    "    for word in s2:\n",
    "        vectorForS2[allWords.index(word)] += 1\n",
    "    return 1 - cosine_distance(vectorForS1, vectorForS2)"
   ]
  },
  {
   "cell_type": "code",
   "execution_count": 219,
   "metadata": {},
   "outputs": [],
   "source": [
    "def createSimilarityMatrix(sentences):\n",
    "    matrix = np.zeros((len(sentences), len(sentences)))\n",
    "    for i in range(len(sentences)):\n",
    "        for j in range(len(sentences)):\n",
    "            if i == j:\n",
    "                continue\n",
    "            else:\n",
    "                matrix[i][j] = findSentenceSimilarity(sentences[i], sentences[j])\n",
    "    for i in range(len(matrix)):\n",
    "        matrix[i] /= matrix[i].sum()\n",
    "    return matrix"
   ]
  },
  {
   "cell_type": "code",
   "execution_count": 220,
   "metadata": {},
   "outputs": [],
   "source": [
    "SimilarityMatrix = createSimilarityMatrix(sentences)"
   ]
  },
  {
   "cell_type": "code",
   "execution_count": 221,
   "metadata": {},
   "outputs": [],
   "source": [
    "def pagerank(matrix, eps=1.0e-8, d=0.85):\n",
    "    N = matrix.shape[1]\n",
    "    v = np.random.rand(N, 1)\n",
    "    v = v / np.linalg.norm(v, 1)\n",
    "    last_v = np.ones((N, 1), dtype=np.float32) * np.inf\n",
    "    M_hat = (d * matrix) + (((1 - d) / N) * np.ones((N, N), dtype=np.float32))\n",
    "    \n",
    "    while np.linalg.norm(v - last_v, 2) > eps:\n",
    "        last_v = v\n",
    "        v = np.matmul(M_hat, v)\n",
    "    return v"
   ]
  },
  {
   "cell_type": "code",
   "execution_count": 222,
   "metadata": {},
   "outputs": [],
   "source": [
    "ranks = pagerank(SimilarityMatrix)"
   ]
  },
  {
   "cell_type": "code",
   "execution_count": 251,
   "metadata": {},
   "outputs": [],
   "source": [
    "sortRankWithindexes = [item[0] for item in sorted(enumerate(ranks), key=lambda item: -item[1])]\n"
   ]
  },
  {
   "cell_type": "code",
   "execution_count": 253,
   "metadata": {},
   "outputs": [
    {
     "data": {
      "image/png": "[encoded data removed]",
      "text/plain": [
       "<Figure size 1440x720 with 1 Axes>"
      ]
     },
     "metadata": {
      "needs_background": "light"
     },
     "output_type": "display_data"
    }
   ],
   "source": [
    "plt.figure(figsize=(20, 10))\n",
    "plt.bar([item[0] for item in sorted(enumerate(ranks))], ranks.T[0],color='blue',width=0.6)\n",
    "plt.ylabel(\"Page Rank / Importance\")\n",
    "plt.xlabel(\"Sentence No.\")\n",
    "plt.show()"
   ]
  },
  {
   "cell_type": "code",
   "execution_count": 248,
   "metadata": {},
   "outputs": [
    {
     "name": "stdout",
     "output_type": "stream",
     "text": [
      "How many sentences do you want your summary to be comprised of? 10\n"
     ]
    }
   ],
   "source": [
    "summary_lines = int(input('How many sentences do you want your summary to be comprised of? '))\n",
    "selectedSentences = sorted(sortRankWithindexes[:summary_lines])\n",
    "summary = itemgetter(*selectedSentences)(sentences)\n",
    "finalSummary=\"\"\n",
    "for sentence in summary:\n",
    "    finalSummary+=''.join(sentence)"
   ]
  },
  {
   "cell_type": "code",
   "execution_count": 249,
   "metadata": {},
   "outputs": [
    {
     "data": {
      "text/plain": [
       "\"Transaction economy is simply the sum of the transactions that make it up, and a transaction is a very simple thing.So if we can understand transactions, we can understand the whole economy.For these reasons, as well see the central bank is an important player in the flow of credit to pay attention to credit credit is the most important part of the economy and probably the least understood it's the most important part, because it's the best and most volatile Part, just like buyers and sellers go to the market to make transactions soda lenders and Borrowers lenders usually want to make their money into more money, and borrowers usually want to buy something they can't afford, like a house or a car where they want, invest in something.So when you spend more, someone else earns more when someone's income Rises, it makes lenders more willing to lend him money because now he's more worthy of credit, a credit worthy bar or has two things: the ability-to-repay and collateral having a lot of income in relation to His Dad gives him the ability to repay in the event that he can't repay.One takes about five to eight years and the other takes about 75 to Hundred Years War.As economic activity increases, we seeing expansion, the first phase of the short-term debt cycle spending continues to increase and prices to rise.When people do a that, we call it a bubble.It'S due to human nature and the way the credit Works, think of borrowing as simply a way of pulling spending forward in order to buy something you can't afford you need to spend more than you make to do this.Money is what settled transactions with when you buy a beer from a bartender with cash.There'S an economic expansion when that isn't easily available.\""
      ]
     },
     "execution_count": 249,
     "metadata": {},
     "output_type": "execute_result"
    }
   ],
   "source": [
    "finalSummary"
   ]
  }
 ],
 "metadata": {
  "kernelspec": {
   "display_name": "Python 3",
   "language": "python",
   "name": "python3"
  },
  "language_info": {
   "codemirror_mode": {
    "name": "ipython",
    "version": 3
   },
   "file_extension": ".py",
   "mimetype": "text/x-python",
   "name": "python",
   "nbconvert_exporter": "python",
   "pygments_lexer": "ipython3",
   "version": "3.6.7"
  }
 },
 "nbformat": 4,
 "nbformat_minor": 2
}
